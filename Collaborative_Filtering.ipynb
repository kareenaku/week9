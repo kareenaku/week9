{
  "nbformat": 4,
  "nbformat_minor": 0,
  "metadata": {
    "colab": {
      "provenance": []
    },
    "kernelspec": {
      "name": "python3",
      "display_name": "Python 3"
    },
    "language_info": {
      "name": "python"
    }
  },
  "cells": [
    {
      "cell_type": "code",
      "execution_count": 5,
      "metadata": {
        "colab": {
          "base_uri": "https://localhost:8080/"
        },
        "id": "N4SQUEWR9Oe4",
        "outputId": "32d82cba-e4f2-4ee9-c39c-5336b5689e61"
      },
      "outputs": [
        {
          "output_type": "stream",
          "name": "stdout",
          "text": [
            "Looking in indexes: https://pypi.org/simple, https://us-python.pkg.dev/colab-wheels/public/simple/\n",
            "Collecting pyspark\n",
            "  Downloading pyspark-3.3.2.tar.gz (281.4 MB)\n",
            "\u001b[2K     \u001b[90m━━━━━━━━━━━━━━━━━━━━━━━━━━━━━━━━━━━━━━━\u001b[0m \u001b[32m281.4/281.4 MB\u001b[0m \u001b[31m4.7 MB/s\u001b[0m eta \u001b[36m0:00:00\u001b[0m\n",
            "\u001b[?25h  Preparing metadata (setup.py) ... \u001b[?25l\u001b[?25hdone\n",
            "Collecting py4j==0.10.9.5\n",
            "  Downloading py4j-0.10.9.5-py2.py3-none-any.whl (199 kB)\n",
            "\u001b[2K     \u001b[90m━━━━━━━━━━━━━━━━━━━━━━━━━━━━━━━━━━━━━━\u001b[0m \u001b[32m199.7/199.7 KB\u001b[0m \u001b[31m22.8 MB/s\u001b[0m eta \u001b[36m0:00:00\u001b[0m\n",
            "\u001b[?25hBuilding wheels for collected packages: pyspark\n",
            "  Building wheel for pyspark (setup.py) ... \u001b[?25l\u001b[?25hdone\n",
            "  Created wheel for pyspark: filename=pyspark-3.3.2-py2.py3-none-any.whl size=281824028 sha256=6257eed039922469b4db0eacebad78e4473ddc4181fa7fedba61f4ff9da4a23f\n",
            "  Stored in directory: /root/.cache/pip/wheels/6c/e3/9b/0525ce8a69478916513509d43693511463c6468db0de237c86\n",
            "Successfully built pyspark\n",
            "Installing collected packages: py4j, pyspark\n",
            "  Attempting uninstall: py4j\n",
            "    Found existing installation: py4j 0.10.9.7\n",
            "    Uninstalling py4j-0.10.9.7:\n",
            "      Successfully uninstalled py4j-0.10.9.7\n",
            "Successfully installed py4j-0.10.9.5 pyspark-3.3.2\n",
            "Looking in indexes: https://pypi.org/simple, https://us-python.pkg.dev/colab-wheels/public/simple/\n",
            "Collecting findspark\n",
            "  Downloading findspark-2.0.1-py2.py3-none-any.whl (4.4 kB)\n",
            "Installing collected packages: findspark\n",
            "Successfully installed findspark-2.0.1\n"
          ]
        }
      ],
      "source": [
        "!pip install pyspark\n",
        "!pip install findspark"
      ]
    },
    {
      "cell_type": "code",
      "source": [
        "from pyspark.ml.evaluation import RegressionEvaluator\n",
        "from pyspark.ml.recommendation import ALS\n",
        "from pyspark.sql import Row"
      ],
      "metadata": {
        "id": "W5TV8L5L9pig"
      },
      "execution_count": 73,
      "outputs": []
    },
    {
      "cell_type": "code",
      "source": [
        "# Baca data dari file txt\n",
        "lines = spark.read.text(\"/content/gdrive/My Drive/kuliah/BigData/dataset_movie.txt\").rdd"
      ],
      "metadata": {
        "id": "NZwmb3dA_VLb"
      },
      "execution_count": 74,
      "outputs": []
    },
    {
      "cell_type": "code",
      "source": [
        "parts = lines.map(lambda row: row.value.split(\"::\"))\n",
        "ratingsRDD = parts.map(lambda p: Row(userId=int(p[0]), movieId=int(p[1]),\n",
        "                                     rating=float(p[2]), timestamp=int(p[3])))"
      ],
      "metadata": {
        "id": "KF-hG9z6Bfd9"
      },
      "execution_count": 76,
      "outputs": []
    },
    {
      "cell_type": "code",
      "source": [
        "ratings = spark.createDataFrame(ratingsRDD)\n",
        "(training, test) = ratings.randomSplit([0.8, 0.2])"
      ],
      "metadata": {
        "id": "xwpiFNSvEkNZ"
      },
      "execution_count": 78,
      "outputs": []
    },
    {
      "cell_type": "code",
      "source": [
        "als = ALS(maxIter=20, regParam=1.0, userCol=\"userId\", itemCol=\"movieId\", ratingCol=\"rating\",\n",
        "          coldStartStrategy=\"drop\")"
      ],
      "metadata": {
        "id": "PeohwqN2GgvG"
      },
      "execution_count": 126,
      "outputs": []
    },
    {
      "cell_type": "code",
      "source": [
        "model = als.fit(training)"
      ],
      "metadata": {
        "id": "Q1bJ_GEmFNt9"
      },
      "execution_count": 127,
      "outputs": []
    },
    {
      "cell_type": "code",
      "source": [
        "predictions = model.transform(test)\n",
        "evaluator = RegressionEvaluator(metricName=\"rmse\", labelCol=\"rating\",\n",
        "                                predictionCol=\"prediction\")\n",
        "rmse = evaluator.evaluate(predictions)\n",
        "print(\"Root-mean-square error = \" + str(rmse))"
      ],
      "metadata": {
        "colab": {
          "base_uri": "https://localhost:8080/"
        },
        "id": "rcg0T2p2F3-8",
        "outputId": "3f42edce-7cbd-443f-9f28-1f369d754494"
      },
      "execution_count": 128,
      "outputs": [
        {
          "output_type": "stream",
          "name": "stdout",
          "text": [
            "Root-mean-square error = 1.4818548378515297\n"
          ]
        }
      ]
    },
    {
      "cell_type": "code",
      "source": [
        "# Generate top 10 movie recommendations for each user\n",
        "userRecs = model.recommendForAllUsers(10)\n",
        "\n",
        "# Generate top 10 user recommendations for each movie\n",
        "movieRecs = model.recommendForAllItems(10)\n",
        "\n"
      ],
      "metadata": {
        "id": "PjMfl1miMjBG"
      },
      "execution_count": 84,
      "outputs": []
    },
    {
      "cell_type": "code",
      "source": [
        "# Generate top 10 movie recommendations for a specified set of users\n",
        "users = ratings.select(als.getUserCol()).distinct().limit(3)\n",
        "userSubsetRecs = model.recommendForUserSubset(users, 10)\n",
        "# Generate top 10 user recommendations for a specified set of movies\n",
        "movies = ratings.select(als.getItemCol()).distinct().limit(3)\n",
        "movieSubSetRecs = model.recommendForItemSubset(movies, 10)"
      ],
      "metadata": {
        "id": "SLPCuGLUMlg2"
      },
      "execution_count": 86,
      "outputs": []
    },
    {
      "cell_type": "code",
      "source": [
        "    userRecs.show() "
      ],
      "metadata": {
        "colab": {
          "base_uri": "https://localhost:8080/"
        },
        "id": "_cIugnqMMnUr",
        "outputId": "7f3f8272-8308-4989-c520-c23be9f61b8c"
      },
      "execution_count": 92,
      "outputs": [
        {
          "output_type": "stream",
          "name": "stdout",
          "text": [
            "+------+--------------------+\n",
            "|userId|     recommendations|\n",
            "+------+--------------------+\n",
            "|    20|[{80, 5.867346}, ...|\n",
            "|    10|[{85, 4.105188}, ...|\n",
            "|     0|[{18, 5.0230374},...|\n",
            "|     1|[{22, 4.317766}, ...|\n",
            "|    21|[{53, 5.0754404},...|\n",
            "|    11|[{7, 5.676603}, {...|\n",
            "|    12|[{90, 6.4377403},...|\n",
            "|    22|[{75, 4.9906764},...|\n",
            "|     2|[{8, 5.1904807}, ...|\n",
            "|    13|[{93, 3.8239582},...|\n",
            "|     3|[{30, 6.4142666},...|\n",
            "|    23|[{90, 5.6623626},...|\n",
            "|     4|[{52, 4.6091857},...|\n",
            "|    24|[{29, 5.5523977},...|\n",
            "|    14|[{29, 4.9809847},...|\n",
            "|     5|[{55, 4.8910055},...|\n",
            "|    15|[{46, 4.99285}, {...|\n",
            "|    25|[{71, 4.0238376},...|\n",
            "|    26|[{38, 6.200528}, ...|\n",
            "|     6|[{25, 5.138626}, ...|\n",
            "+------+--------------------+\n",
            "only showing top 20 rows\n",
            "\n"
          ]
        }
      ]
    },
    {
      "cell_type": "code",
      "source": [
        "  movieRecs.show()"
      ],
      "metadata": {
        "colab": {
          "base_uri": "https://localhost:8080/"
        },
        "id": "kJ6sQzl_Nhs4",
        "outputId": "a2304404-a8f4-483c-e7d3-ae5f4fe51e16"
      },
      "execution_count": 93,
      "outputs": [
        {
          "output_type": "stream",
          "name": "stdout",
          "text": [
            "+-------+--------------------+\n",
            "|movieId|     recommendations|\n",
            "+-------+--------------------+\n",
            "|     20|[{17, 4.7652183},...|\n",
            "|     40|[{8, 4.9868965}, ...|\n",
            "|     10|[{23, 3.9799986},...|\n",
            "|     50|[{23, 4.2144923},...|\n",
            "|     80|[{26, 5.957684}, ...|\n",
            "|     70|[{8, 4.7956357}, ...|\n",
            "|     60|[{24, 3.5635986},...|\n",
            "|     90|[{12, 6.4377403},...|\n",
            "|     30|[{3, 6.4142666}, ...|\n",
            "|      0|[{12, 3.5649214},...|\n",
            "|     31|[{12, 3.6212664},...|\n",
            "|     81|[{28, 4.9016094},...|\n",
            "|     91|[{23, 3.5883782},...|\n",
            "|      1|[{15, 3.638225}, ...|\n",
            "|     41|[{8, 4.1039505}, ...|\n",
            "|     61|[{6, 2.436781}, {...|\n",
            "|     51|[{3, 5.179548}, {...|\n",
            "|     21|[{26, 2.967746}, ...|\n",
            "|     11|[{18, 4.021506}, ...|\n",
            "|     71|[{25, 4.0238376},...|\n",
            "+-------+--------------------+\n",
            "only showing top 20 rows\n",
            "\n"
          ]
        }
      ]
    },
    {
      "cell_type": "code",
      "source": [
        "  userSubsetRecs.show()"
      ],
      "metadata": {
        "colab": {
          "base_uri": "https://localhost:8080/"
        },
        "id": "5qUkALzHNjsS",
        "outputId": "331e2a0a-40bc-48fa-e7ca-31b288e50d5b"
      },
      "execution_count": 94,
      "outputs": [
        {
          "output_type": "stream",
          "name": "stdout",
          "text": [
            "+------+--------------------+\n",
            "|userId|     recommendations|\n",
            "+------+--------------------+\n",
            "|    26|[{38, 6.200528}, ...|\n",
            "|    19|[{30, 5.002263}, ...|\n",
            "|    29|[{90, 4.122185}, ...|\n",
            "+------+--------------------+\n",
            "\n"
          ]
        }
      ]
    },
    {
      "cell_type": "code",
      "source": [
        "  movieSubSetRecs.show()"
      ],
      "metadata": {
        "colab": {
          "base_uri": "https://localhost:8080/"
        },
        "id": "TTsI89JcNlQZ",
        "outputId": "a6c26d3f-9c27-4484-a88e-5e5ab93351ff"
      },
      "execution_count": 95,
      "outputs": [
        {
          "output_type": "stream",
          "name": "stdout",
          "text": [
            "+-------+--------------------+\n",
            "|movieId|     recommendations|\n",
            "+-------+--------------------+\n",
            "|     65|[{26, 2.2675679},...|\n",
            "|     26|[{27, 3.3084774},...|\n",
            "|     29|[{24, 5.5523977},...|\n",
            "+-------+--------------------+\n",
            "\n"
          ]
        }
      ]
    },
    {
      "cell_type": "code",
      "source": [
        "    spark.stop()"
      ],
      "metadata": {
        "id": "eHlYpLNlNC0I"
      },
      "execution_count": null,
      "outputs": []
    },
    {
      "cell_type": "markdown",
      "source": [
        "According to the RMSE. For the best model is maxIter = 10 and regParam = 0.1 \n"
      ],
      "metadata": {
        "id": "OMmEFKpmQU3-"
      }
    }
  ]
}